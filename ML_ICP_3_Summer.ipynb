{
 "cells": [
  {
   "cell_type": "code",
   "execution_count": 17,
   "id": "b766b698",
   "metadata": {},
   "outputs": [
    {
     "name": "stdout",
     "output_type": "stream",
     "text": [
      "(3, 5)\n",
      "[[19  9  2 11  5]\n",
      " [ 7  1  4  7 16]\n",
      " [ 2 15  7  8  9]]\n",
      "\n",
      " [[ 0  9  2 11  5]\n",
      " [ 7  1  4  7  0]\n",
      " [ 2  0  7  8  9]]\n"
     ]
    }
   ],
   "source": [
    "# Creating random vector of size 15 having only Integers in the range 1-20. \n",
    "\n",
    "import numpy as np\n",
    "v=np.random.randint(1,20, (15,))\n",
    "\n",
    "#Reshaping the array to 3 by 5\n",
    "\n",
    "arr = v.reshape (3,5)\n",
    "print(arr.shape)\n",
    "print(arr)\n",
    "\n",
    "#Replacing the max in each row by 0\n",
    "row_max = arr.max(axis=1).reshape(-1,1) \n",
    "arr= np.where(arr== row_max, 0, arr)\n",
    "print('\\n', arr)"
   ]
  },
  {
   "cell_type": "code",
   "execution_count": 18,
   "id": "2c51655a",
   "metadata": {},
   "outputs": [
    {
     "name": "stdout",
     "output_type": "stream",
     "text": [
      "Shape: (4, 3)\n",
      "Type: <class 'numpy.ndarray'>\n",
      "Data type: int32\n"
     ]
    }
   ],
   "source": [
    "#Create a 2-dimensional array of size 4 x 3 (composed of 4-byte integer elements), also print the shape, type and data type of the array\n",
    "\n",
    "x= np.array([[1, 2, 3], [4, 5, 6], [7, 8, 9], [10, 11, 12]], np.int32)\n",
    "print('Shape:', x.shape)\n",
    "print('Type:', type(x))\n",
    "print('Data type:',x.dtype)"
   ]
  },
  {
   "cell_type": "code",
   "execution_count": 19,
   "id": "2164f3e9",
   "metadata": {},
   "outputs": [
    {
     "name": "stdout",
     "output_type": "stream",
     "text": [
      "Eigenvalues: [2. 1.]\n",
      "\n",
      "Right eigenvectors:\n",
      " [[0.89442719 0.70710678]\n",
      " [0.4472136  0.70710678]]\n"
     ]
    }
   ],
   "source": [
    "# Computing the eigenvalues and right eigenvectors\n",
    "\n",
    "from numpy import linalg as LA\n",
    "mat = np.array([[3, -2], [1, 0]], np.int32)\n",
    "w, v = LA.eig(mat)\n",
    "print('Eigenvalues:', w)\n",
    "print('\\nRight eigenvectors:\\n', v)"
   ]
  },
  {
   "cell_type": "code",
   "execution_count": 20,
   "id": "943e3b2c",
   "metadata": {},
   "outputs": [
    {
     "name": "stdout",
     "output_type": "stream",
     "text": [
      "Sum of diagonal elements: 4\n"
     ]
    }
   ],
   "source": [
    "# Computing the sum of the diagonal element\n",
    "\n",
    "n = np.array([[0, 1, 2], [3, 4, 5]])\n",
    "res = np.trace(n)\n",
    "print('Sum of diagonal elements:', res)"
   ]
  },
  {
   "cell_type": "code",
   "execution_count": 21,
   "id": "7c3b80fc",
   "metadata": {},
   "outputs": [
    {
     "data": {
      "text/plain": [
       "array([[1, 2, 3],\n",
       "       [4, 5, 6]])"
      ]
     },
     "execution_count": 21,
     "metadata": {},
     "output_type": "execute_result"
    }
   ],
   "source": [
    "#program to create a new shape to an array without changing its data\n",
    "m = np.arange(1,7).reshape(3,2)\n",
    "m = m.reshape(2,3)\n",
    "m"
   ]
  },
  {
   "cell_type": "code",
   "execution_count": null,
   "id": "1cb28039",
   "metadata": {},
   "outputs": [],
   "source": []
  }
 ],
 "metadata": {
  "kernelspec": {
   "display_name": "Python 3 (ipykernel)",
   "language": "python",
   "name": "python3"
  },
  "language_info": {
   "codemirror_mode": {
    "name": "ipython",
    "version": 3
   },
   "file_extension": ".py",
   "mimetype": "text/x-python",
   "name": "python",
   "nbconvert_exporter": "python",
   "pygments_lexer": "ipython3",
   "version": "3.11.4"
  }
 },
 "nbformat": 4,
 "nbformat_minor": 5
}
